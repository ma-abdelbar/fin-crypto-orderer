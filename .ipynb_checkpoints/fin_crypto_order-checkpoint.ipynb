{
 "cells": [
  {
   "cell_type": "code",
   "execution_count": 3,
   "metadata": {},
   "outputs": [
    {
     "data": {
      "application/vnd.jupyter.widget-view+json": {
       "model_id": "80671e5b670d4a7eb1b2de1a9c035953",
       "version_major": 2,
       "version_minor": 0
      },
      "text/plain": [
       "HBox(children=(VBox(children=(Dropdown(description='Exchange:', options=('Binance', 'Bybit'), value='Binance')…"
      ]
     },
     "metadata": {},
     "output_type": "display_data"
    }
   ],
   "source": [
    "import ipywidgets as widgets\n",
    "from IPython.display import display, clear_output\n",
    "import pandas as pd\n",
    "\n",
    "exchange_dropdown = widgets.Dropdown(options=['Binance', 'Bybit'], value='Binance', description='CeX:', width='100%')\n",
    "connect_button = widgets.Button(description='Connect', button_style='success')\n",
    "connect_output = widgets.Output()\n",
    "def on_connect(b):\n",
    "    with connect_output:\n",
    "        clear_output()\n",
    "        print(f\"Connected to {exchange_dropdown.value} (dummy)\")\n",
    "connect_button.on_click(on_connect)\n",
    "\n",
    "connect_button = widgets.Button(description='Connect', button_style='success')\n",
    "connect_output = widgets.Output()\n",
    "def on_connect(b):\n",
    "    with connect_output:\n",
    "        clear_output()\n",
    "        print(f\"Connected to {exchange_dropdown.value} (dummy)\")\n",
    "connect_button.on_click(on_connect)\n",
    "\n",
    "top_left = widgets.VBox([exchange_dropdown, connect_button, connect_output], layout=widgets.Layout(min_height='100px'))\n",
    "\n",
    "\n",
    "top_row = widgets.HBox([top_left],\n",
    "                       layout=widgets.Layout(justify_content='space-between', width='100%', margin='10px 0px'))\n",
    "\n",
    "display(top_row)\n",
    "\n"
   ]
  },
  {
   "cell_type": "code",
   "execution_count": null,
   "metadata": {},
   "outputs": [],
   "source": []
  },
  {
   "cell_type": "code",
   "execution_count": null,
   "metadata": {},
   "outputs": [],
   "source": []
  }
 ],
 "metadata": {
  "kernelspec": {
   "display_name": "Python 3",
   "language": "python",
   "name": "python3"
  },
  "language_info": {
   "codemirror_mode": {
    "name": "ipython",
    "version": 3
   },
   "file_extension": ".py",
   "mimetype": "text/x-python",
   "name": "python",
   "nbconvert_exporter": "python",
   "pygments_lexer": "ipython3",
   "version": "3.8.5"
  }
 },
 "nbformat": 4,
 "nbformat_minor": 2
}
