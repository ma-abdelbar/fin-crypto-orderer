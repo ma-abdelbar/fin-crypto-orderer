{
 "cells": [
  {
   "cell_type": "code",
   "execution_count": 15,
   "metadata": {},
   "outputs": [
    {
     "data": {
      "application/vnd.jupyter.widget-view+json": {
       "model_id": "09c01176142842198cfee109807930ca",
       "version_major": 2,
       "version_minor": 0
      },
      "text/plain": [
       "HBox(children=(VBox(children=(Dropdown(description='CeX:', layout=Layout(width='80%'), options=('Binance', 'By…"
      ]
     },
     "metadata": {},
     "output_type": "display_data"
    }
   ],
   "source": [
    "import ipywidgets as widgets\n",
    "from IPython.display import display, clear_output\n",
    "\n",
    "# Create dropdown with proper layout\n",
    "exchange_dropdown = widgets.Dropdown(\n",
    "    options=['Binance', 'Bybit'],\n",
    "    value='Binance',\n",
    "    description='CeX:',\n",
    "    layout=widgets.Layout(width='80%'),  # control width here\n",
    "    style={'description_width': 'initial'}  # optional: allow dynamic label width\n",
    ")\n",
    "\n",
    "# Create button and output (only once!)\n",
    "connect_button = widgets.Button(description='Connect', button_style='success')\n",
    "connect_output = widgets.Output()\n",
    "\n",
    "# Define button click handler\n",
    "def on_connect(b):\n",
    "    with connect_output:\n",
    "        clear_output()\n",
    "        print(f\"Connected to {exchange_dropdown.value} (dummy)\")\n",
    "\n",
    "# Attach event\n",
    "connect_button.on_click(on_connect)\n",
    "\n",
    "# Layout\n",
    "top_left = widgets.VBox(\n",
    "    [exchange_dropdown, connect_button, connect_output],\n",
    "    layout=widgets.Layout(min_height='100px')\n",
    ")\n",
    "\n",
    "top_row = widgets.HBox(\n",
    "    [top_left],\n",
    "    layout=widgets.Layout(justify_content='flex-start', width='100%')\n",
    ")\n",
    "\n",
    "# Display\n",
    "display(top_row)\n"
   ]
  },
  {
   "cell_type": "code",
   "execution_count": null,
   "metadata": {},
   "outputs": [],
   "source": []
  },
  {
   "cell_type": "code",
   "execution_count": null,
   "metadata": {},
   "outputs": [],
   "source": []
  }
 ],
 "metadata": {
  "kernelspec": {
   "display_name": "Python 3",
   "language": "python",
   "name": "python3"
  },
  "language_info": {
   "codemirror_mode": {
    "name": "ipython",
    "version": 3
   },
   "file_extension": ".py",
   "mimetype": "text/x-python",
   "name": "python",
   "nbconvert_exporter": "python",
   "pygments_lexer": "ipython3",
   "version": "3.8.5"
  }
 },
 "nbformat": 4,
 "nbformat_minor": 2
}
